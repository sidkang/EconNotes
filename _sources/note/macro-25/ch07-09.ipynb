{
 "cells": [
  {
   "cell_type": "markdown",
   "id": "69a07c37",
   "metadata": {},
   "source": [
    "# 消费、储蓄与中国的消费不足\n",
    "\n",
    "\n",
    "\n",
    "## 储蓄的基本概念\n",
    "\n",
    "## 拉姆齐模型(仅居民)\n",
    "\n",
    "```{uml}\n",
    "@startuml\n",
    "skinparam defaultTextAlignment center\n",
    "participant Consumer as con\n",
    "participant Corp as corp\n",
    "group Period 1\n",
    " [-> con: <latex>L, k_0</latex>\n",
    " con -> corp: <latex>L,k_0</latex>\n",
    " corp -> con: <latex>w_1L,(1+r_1)k_0</latex>\n",
    " [<- con: <latex>c_1</latex>\n",
    "end\n",
    "group Period 2\n",
    "[-> con: <latex>L, k_1</latex>\n",
    "con -> corp: <latex>L,k_1</latex>\n",
    "corp -> con: <latex>w_2L,(1+r_2)k_1</latex>\n",
    "[<- con: <latex>c_2</latex>\n",
    "end\n",
    "@enduml\n",
    "```\n",
    "\n",
    "## 拉姆齐模型(仅企业)\n",
    "\n",
    "## 模型求解的三点技术注释\n",
    "\n",
    "## 拉姆齐模型(居民与企业)\n",
    "\n",
    "## 对储蓄的分析\n",
    "\n",
    "## 现实中消费与储蓄如何决定\n",
    "\n",
    "## 再论萨伊定律\n",
    "\n",
    "## 中国消费和储蓄的基本事实\n",
    "\n",
    "## 模型与中国经济的数量分析\n",
    "\n",
    "## 课后练习"
   ]
  }
 ],
 "metadata": {
  "jupytext": {
   "cell_metadata_filter": "-all",
   "formats": "md:myst",
   "text_representation": {
    "extension": ".md",
    "format_name": "myst",
    "format_version": 0.13,
    "jupytext_version": "1.13.8"
   }
  },
  "kernelspec": {
   "display_name": "Python 3 (ipykernel)",
   "language": "python",
   "name": "python3"
  },
  "language_info": {
   "codemirror_mode": {
    "name": "ipython",
    "version": 3
   },
   "file_extension": ".py",
   "mimetype": "text/x-python",
   "name": "python",
   "nbconvert_exporter": "python",
   "pygments_lexer": "ipython3",
   "version": "3.9.12"
  },
  "source_map": [
   14
  ]
 },
 "nbformat": 4,
 "nbformat_minor": 5
}